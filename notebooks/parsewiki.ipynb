{
 "cells": [
  {
   "cell_type": "code",
   "execution_count": 1,
   "metadata": {},
   "outputs": [
    {
     "name": "stdout",
     "output_type": "stream",
     "text": [
      "/Users/oscar/Documents/Thesis/code/production_dir\n"
     ]
    },
    {
     "name": "stderr",
     "output_type": "stream",
     "text": [
      "/Users/oscar/Documents/Thesis/code/thesis/lib/python3.9/site-packages/IPython/core/magics/osm.py:417: UserWarning: using dhist requires you to install the `pickleshare` library.\n",
      "  self.shell.db['dhist'] = compress_dhist(dhist)[-100:]\n"
     ]
    }
   ],
   "source": [
    "%cd .."
   ]
  },
  {
   "cell_type": "code",
   "execution_count": 2,
   "metadata": {},
   "outputs": [
    {
     "name": "stderr",
     "output_type": "stream",
     "text": [
      "/Users/oscar/Documents/Thesis/code/thesis/lib/python3.9/site-packages/urllib3/__init__.py:35: NotOpenSSLWarning: urllib3 v2 only supports OpenSSL 1.1.1+, currently the 'ssl' module is compiled with 'LibreSSL 2.8.3'. See: https://github.com/urllib3/urllib3/issues/3020\n",
      "  warnings.warn(\n"
     ]
    }
   ],
   "source": [
    "from src.utils import load_documents, chunk_dataset\n",
    "from transformers import AutoTokenizer"
   ]
  },
  {
   "cell_type": "code",
   "execution_count": 3,
   "metadata": {},
   "outputs": [
    {
     "name": "stdout",
     "output_type": "stream",
     "text": [
      "wiki_00\n",
      "wiki_01\n",
      "wiki_02\n",
      "wiki_03\n",
      "wiki_04\n",
      "wiki_05\n",
      "wiki_06\n",
      "wiki_07\n",
      "wiki_08\n",
      "wiki_09\n",
      "wiki_10\n",
      "wiki_11\n",
      "wiki_12\n",
      "wiki_13\n",
      "wiki_14\n",
      "wiki_15\n",
      "wiki_16\n",
      "wiki_17\n",
      "wiki_18\n",
      "wiki_19\n",
      "wiki_20\n",
      "wiki_21\n",
      "wiki_22\n",
      "wiki_23\n",
      "wiki_24\n",
      "wiki_25\n",
      "wiki_26\n",
      "wiki_27\n",
      "wiki_28\n",
      "wiki_29\n",
      "wiki_30\n",
      "wiki_31\n",
      "wiki_32\n",
      "wiki_33\n",
      "wiki_34\n",
      "wiki_35\n",
      "wiki_36\n",
      "wiki_37\n",
      "wiki_38\n",
      "wiki_39\n",
      "wiki_40\n",
      "wiki_41\n",
      "wiki_42\n",
      "wiki_43\n",
      "wiki_44\n",
      "wiki_45\n",
      "wiki_46\n",
      "wiki_47\n",
      "wiki_48\n",
      "wiki_49\n",
      "wiki_50\n",
      "wiki_51\n",
      "wiki_52\n",
      "wiki_53\n",
      "wiki_54\n",
      "wiki_55\n",
      "wiki_56\n",
      "wiki_57\n",
      "wiki_58\n",
      "wiki_59\n",
      "wiki_60\n",
      "wiki_61\n",
      "wiki_62\n",
      "wiki_63\n",
      "wiki_64\n",
      "wiki_65\n",
      "wiki_66\n",
      "wiki_67\n",
      "wiki_68\n",
      "wiki_69\n",
      "wiki_70\n",
      "wiki_71\n",
      "wiki_72\n",
      "wiki_73\n",
      "wiki_74\n",
      "wiki_75\n",
      "wiki_76\n",
      "wiki_77\n",
      "wiki_78\n",
      "wiki_79\n",
      "wiki_80\n",
      "wiki_81\n",
      "wiki_82\n",
      "wiki_83\n",
      "wiki_84\n",
      "wiki_85\n",
      "wiki_86\n",
      "wiki_87\n",
      "wiki_88\n",
      "wiki_89\n",
      "wiki_90\n",
      "wiki_91\n",
      "wiki_92\n",
      "wiki_93\n",
      "wiki_94\n",
      "wiki_95\n",
      "wiki_96\n",
      "wiki_97\n",
      "wiki_98\n",
      "wiki_99\n"
     ]
    }
   ],
   "source": [
    "from pathlib import Path\n",
    "\n",
    "dump_dir = Path(\"data/wiki/dump/AA\")\n",
    "\n",
    "for file_path in sorted(dump_dir.glob(\"wiki_*\")):\n",
    "    print(file_path.name)  # or process_file(file_path, ...)\n"
   ]
  },
  {
   "cell_type": "code",
   "execution_count": 4,
   "metadata": {},
   "outputs": [],
   "source": [
    "from src.utils import load_wiki_file_paths"
   ]
  },
  {
   "cell_type": "code",
   "execution_count": 5,
   "metadata": {},
   "outputs": [
    {
     "name": "stdout",
     "output_type": "stream",
     "text": [
      "Found 100 wiki files under data/wiki/dump\n"
     ]
    }
   ],
   "source": [
    "test = load_wiki_file_paths(\"data/wiki/dump\")"
   ]
  },
  {
   "cell_type": "code",
   "execution_count": 6,
   "metadata": {},
   "outputs": [
    {
     "data": {
      "text/plain": [
       "[PosixPath('data/wiki/dump/AA/wiki_00'),\n",
       " PosixPath('data/wiki/dump/AA/wiki_01'),\n",
       " PosixPath('data/wiki/dump/AA/wiki_02'),\n",
       " PosixPath('data/wiki/dump/AA/wiki_03'),\n",
       " PosixPath('data/wiki/dump/AA/wiki_04'),\n",
       " PosixPath('data/wiki/dump/AA/wiki_05'),\n",
       " PosixPath('data/wiki/dump/AA/wiki_06'),\n",
       " PosixPath('data/wiki/dump/AA/wiki_07'),\n",
       " PosixPath('data/wiki/dump/AA/wiki_08'),\n",
       " PosixPath('data/wiki/dump/AA/wiki_09'),\n",
       " PosixPath('data/wiki/dump/AA/wiki_10'),\n",
       " PosixPath('data/wiki/dump/AA/wiki_11'),\n",
       " PosixPath('data/wiki/dump/AA/wiki_12'),\n",
       " PosixPath('data/wiki/dump/AA/wiki_13'),\n",
       " PosixPath('data/wiki/dump/AA/wiki_14'),\n",
       " PosixPath('data/wiki/dump/AA/wiki_15'),\n",
       " PosixPath('data/wiki/dump/AA/wiki_16'),\n",
       " PosixPath('data/wiki/dump/AA/wiki_17'),\n",
       " PosixPath('data/wiki/dump/AA/wiki_18'),\n",
       " PosixPath('data/wiki/dump/AA/wiki_19'),\n",
       " PosixPath('data/wiki/dump/AA/wiki_20'),\n",
       " PosixPath('data/wiki/dump/AA/wiki_21'),\n",
       " PosixPath('data/wiki/dump/AA/wiki_22'),\n",
       " PosixPath('data/wiki/dump/AA/wiki_23'),\n",
       " PosixPath('data/wiki/dump/AA/wiki_24'),\n",
       " PosixPath('data/wiki/dump/AA/wiki_25'),\n",
       " PosixPath('data/wiki/dump/AA/wiki_26'),\n",
       " PosixPath('data/wiki/dump/AA/wiki_27'),\n",
       " PosixPath('data/wiki/dump/AA/wiki_28'),\n",
       " PosixPath('data/wiki/dump/AA/wiki_29'),\n",
       " PosixPath('data/wiki/dump/AA/wiki_30'),\n",
       " PosixPath('data/wiki/dump/AA/wiki_31'),\n",
       " PosixPath('data/wiki/dump/AA/wiki_32'),\n",
       " PosixPath('data/wiki/dump/AA/wiki_33'),\n",
       " PosixPath('data/wiki/dump/AA/wiki_34'),\n",
       " PosixPath('data/wiki/dump/AA/wiki_35'),\n",
       " PosixPath('data/wiki/dump/AA/wiki_36'),\n",
       " PosixPath('data/wiki/dump/AA/wiki_37'),\n",
       " PosixPath('data/wiki/dump/AA/wiki_38'),\n",
       " PosixPath('data/wiki/dump/AA/wiki_39'),\n",
       " PosixPath('data/wiki/dump/AA/wiki_40'),\n",
       " PosixPath('data/wiki/dump/AA/wiki_41'),\n",
       " PosixPath('data/wiki/dump/AA/wiki_42'),\n",
       " PosixPath('data/wiki/dump/AA/wiki_43'),\n",
       " PosixPath('data/wiki/dump/AA/wiki_44'),\n",
       " PosixPath('data/wiki/dump/AA/wiki_45'),\n",
       " PosixPath('data/wiki/dump/AA/wiki_46'),\n",
       " PosixPath('data/wiki/dump/AA/wiki_47'),\n",
       " PosixPath('data/wiki/dump/AA/wiki_48'),\n",
       " PosixPath('data/wiki/dump/AA/wiki_49'),\n",
       " PosixPath('data/wiki/dump/AA/wiki_50'),\n",
       " PosixPath('data/wiki/dump/AA/wiki_51'),\n",
       " PosixPath('data/wiki/dump/AA/wiki_52'),\n",
       " PosixPath('data/wiki/dump/AA/wiki_53'),\n",
       " PosixPath('data/wiki/dump/AA/wiki_54'),\n",
       " PosixPath('data/wiki/dump/AA/wiki_55'),\n",
       " PosixPath('data/wiki/dump/AA/wiki_56'),\n",
       " PosixPath('data/wiki/dump/AA/wiki_57'),\n",
       " PosixPath('data/wiki/dump/AA/wiki_58'),\n",
       " PosixPath('data/wiki/dump/AA/wiki_59'),\n",
       " PosixPath('data/wiki/dump/AA/wiki_60'),\n",
       " PosixPath('data/wiki/dump/AA/wiki_61'),\n",
       " PosixPath('data/wiki/dump/AA/wiki_62'),\n",
       " PosixPath('data/wiki/dump/AA/wiki_63'),\n",
       " PosixPath('data/wiki/dump/AA/wiki_64'),\n",
       " PosixPath('data/wiki/dump/AA/wiki_65'),\n",
       " PosixPath('data/wiki/dump/AA/wiki_66'),\n",
       " PosixPath('data/wiki/dump/AA/wiki_67'),\n",
       " PosixPath('data/wiki/dump/AA/wiki_68'),\n",
       " PosixPath('data/wiki/dump/AA/wiki_69'),\n",
       " PosixPath('data/wiki/dump/AA/wiki_70'),\n",
       " PosixPath('data/wiki/dump/AA/wiki_71'),\n",
       " PosixPath('data/wiki/dump/AA/wiki_72'),\n",
       " PosixPath('data/wiki/dump/AA/wiki_73'),\n",
       " PosixPath('data/wiki/dump/AA/wiki_74'),\n",
       " PosixPath('data/wiki/dump/AA/wiki_75'),\n",
       " PosixPath('data/wiki/dump/AA/wiki_76'),\n",
       " PosixPath('data/wiki/dump/AA/wiki_77'),\n",
       " PosixPath('data/wiki/dump/AA/wiki_78'),\n",
       " PosixPath('data/wiki/dump/AA/wiki_79'),\n",
       " PosixPath('data/wiki/dump/AA/wiki_80'),\n",
       " PosixPath('data/wiki/dump/AA/wiki_81'),\n",
       " PosixPath('data/wiki/dump/AA/wiki_82'),\n",
       " PosixPath('data/wiki/dump/AA/wiki_83'),\n",
       " PosixPath('data/wiki/dump/AA/wiki_84'),\n",
       " PosixPath('data/wiki/dump/AA/wiki_85'),\n",
       " PosixPath('data/wiki/dump/AA/wiki_86'),\n",
       " PosixPath('data/wiki/dump/AA/wiki_87'),\n",
       " PosixPath('data/wiki/dump/AA/wiki_88'),\n",
       " PosixPath('data/wiki/dump/AA/wiki_89'),\n",
       " PosixPath('data/wiki/dump/AA/wiki_90'),\n",
       " PosixPath('data/wiki/dump/AA/wiki_91'),\n",
       " PosixPath('data/wiki/dump/AA/wiki_92'),\n",
       " PosixPath('data/wiki/dump/AA/wiki_93'),\n",
       " PosixPath('data/wiki/dump/AA/wiki_94'),\n",
       " PosixPath('data/wiki/dump/AA/wiki_95'),\n",
       " PosixPath('data/wiki/dump/AA/wiki_96'),\n",
       " PosixPath('data/wiki/dump/AA/wiki_97'),\n",
       " PosixPath('data/wiki/dump/AA/wiki_98'),\n",
       " PosixPath('data/wiki/dump/AA/wiki_99')]"
      ]
     },
     "execution_count": 6,
     "metadata": {},
     "output_type": "execute_result"
    }
   ],
   "source": [
    "test"
   ]
  }
 ],
 "metadata": {
  "kernelspec": {
   "display_name": "thesis",
   "language": "python",
   "name": "python3"
  },
  "language_info": {
   "codemirror_mode": {
    "name": "ipython",
    "version": 3
   },
   "file_extension": ".py",
   "mimetype": "text/x-python",
   "name": "python",
   "nbconvert_exporter": "python",
   "pygments_lexer": "ipython3",
   "version": "3.9.6"
  }
 },
 "nbformat": 4,
 "nbformat_minor": 2
}
