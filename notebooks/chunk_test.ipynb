{
 "cells": [
  {
   "cell_type": "code",
   "execution_count": 1,
   "metadata": {},
   "outputs": [
    {
     "name": "stdout",
     "output_type": "stream",
     "text": [
      "/Users/oscar/Documents/Thesis/code/production_dir\n"
     ]
    },
    {
     "name": "stderr",
     "output_type": "stream",
     "text": [
      "/Users/oscar/Documents/Thesis/code/production_dir/production_env/lib/python3.9/site-packages/IPython/core/magics/osm.py:417: UserWarning: using dhist requires you to install the `pickleshare` library.\n",
      "  self.shell.db['dhist'] = compress_dhist(dhist)[-100:]\n"
     ]
    }
   ],
   "source": [
    "%cd .."
   ]
  },
  {
   "cell_type": "code",
   "execution_count": 2,
   "metadata": {},
   "outputs": [
    {
     "name": "stderr",
     "output_type": "stream",
     "text": [
      "/Users/oscar/Documents/Thesis/code/production_dir/production_env/lib/python3.9/site-packages/urllib3/__init__.py:35: NotOpenSSLWarning: urllib3 v2 only supports OpenSSL 1.1.1+, currently the 'ssl' module is compiled with 'LibreSSL 2.8.3'. See: https://github.com/urllib3/urllib3/issues/3020\n",
      "  warnings.warn(\n"
     ]
    }
   ],
   "source": [
    "from src.utils import load_documents, chunk_dataset\n",
    "from src.pipeline import chunk_and_save\n",
    "from transformers import AutoTokenizer\n",
    "import yaml"
   ]
  },
  {
   "cell_type": "code",
   "execution_count": 3,
   "metadata": {},
   "outputs": [
    {
     "name": "stdout",
     "output_type": "stream",
     "text": [
      "Loading documents...\n",
      "4105 documents loaded\n"
     ]
    }
   ],
   "source": [
    "config_path = 'configs/news/news.yaml'\n",
    "\n",
    "with open(config_path, \"r\") as f:\n",
    "    config = yaml.safe_load(f)\n",
    "\n",
    "docs_path = config[\"documents_path\"]\n",
    "tokenizer_name = config[\"tokenizer_name\"]\n",
    "save_path = config['chunked_path']\n",
    "\n",
    "print(\"Loading documents...\")\n",
    "documents = load_documents(docs_path)"
   ]
  },
  {
   "cell_type": "code",
   "execution_count": 4,
   "metadata": {},
   "outputs": [
    {
     "data": {
      "text/plain": [
       "Dataset({\n",
       "    features: ['title', 'body', 'error', 'url'],\n",
       "    num_rows: 4105\n",
       "})"
      ]
     },
     "execution_count": 4,
     "metadata": {},
     "output_type": "execute_result"
    }
   ],
   "source": [
    "documents"
   ]
  },
  {
   "cell_type": "code",
   "execution_count": 20,
   "metadata": {},
   "outputs": [],
   "source": [
    "from src.splitter import get_splitter\n",
    "splitter = get_splitter('paragraph')"
   ]
  },
  {
   "cell_type": "code",
   "execution_count": 21,
   "metadata": {},
   "outputs": [],
   "source": [
    "chunked = chunk_dataset(documents,splitter=splitter)"
   ]
  },
  {
   "cell_type": "code",
   "execution_count": 15,
   "metadata": {},
   "outputs": [
    {
     "data": {
      "text/plain": [
       "'Title: Juletræer bliver til kompost\\n Text: Det kan godt være, at det er slut med at danse om juletræet for nu - men træerne kan stadig bruges.\\nSådan lyder det fra Københavns Kommune, som opfordrer københavnerne til af aflevere deres juletræer til genanvendelse.'"
      ]
     },
     "execution_count": 15,
     "metadata": {},
     "output_type": "execute_result"
    }
   ],
   "source": [
    "chunked[0]['text']\n"
   ]
  },
  {
   "cell_type": "code",
   "execution_count": 12,
   "metadata": {},
   "outputs": [],
   "source": [
    "from pprint import pprint"
   ]
  },
  {
   "cell_type": "code",
   "execution_count": 22,
   "metadata": {},
   "outputs": [
    {
     "name": "stdout",
     "output_type": "stream",
     "text": [
      "Title: Juletræer bliver til kompost\n",
      " Text: Det kan godt være, at det er slut med at danse om juletræet for nu - men træerne kan stadig bruges.\n",
      "Sådan lyder det fra Københavns Kommune, som opfordrer københavnerne til af aflevere deres juletræer til genanvendelse.\n",
      "Title: Juletræer bliver til kompost\n",
      " Text: Træerne kan nemlig blive til en ganske god kompost lige til muldjorden, som folk kan komme og hente til foråret, fortæller souschef i kommunens teknik- og miljøafdeling Anne-Mette Greve Næsager.\n",
      "Title: Juletræer bliver til kompost\n",
      " Text: - På den måde kan vi få juletræerne til at komme i cirkulation og komme naturen til gode igen, siger hun.\n",
      "Title: Juletræer bliver til kompost\n",
      " Text: Folk kan enten selv aflevere juletræet på en nær- eller genbrugsstation, men kommunen tilbyder også at hente træerne rundt omkring på forskellige opsamlingsdatoer. Sidste år blev det til mere end 253 ton juletræer.\n"
     ]
    }
   ],
   "source": [
    "for text in chunked[:4]['text']:\n",
    "    print(text)"
   ]
  },
  {
   "cell_type": "code",
   "execution_count": null,
   "metadata": {},
   "outputs": [],
   "source": []
  }
 ],
 "metadata": {
  "kernelspec": {
   "display_name": "production_env",
   "language": "python",
   "name": "python3"
  },
  "language_info": {
   "codemirror_mode": {
    "name": "ipython",
    "version": 3
   },
   "file_extension": ".py",
   "mimetype": "text/x-python",
   "name": "python",
   "nbconvert_exporter": "python",
   "pygments_lexer": "ipython3",
   "version": "3.9.6"
  }
 },
 "nbformat": 4,
 "nbformat_minor": 2
}
